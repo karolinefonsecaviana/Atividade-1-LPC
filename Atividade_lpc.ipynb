{
  "nbformat": 4,
  "nbformat_minor": 0,
  "metadata": {
    "colab": {
      "name": "Atividade lpc",
      "provenance": [],
      "authorship_tag": "ABX9TyOnrI9moSubEXdtQcME6VkG",
      "include_colab_link": true
    },
    "kernelspec": {
      "name": "python3",
      "display_name": "Python 3"
    }
  },
  "cells": [
    {
      "cell_type": "markdown",
      "metadata": {
        "id": "view-in-github",
        "colab_type": "text"
      },
      "source": [
        "<a href=\"https://colab.research.google.com/github/karolinefonsecaviana/Atividade-1-LPC/blob/master/Atividade_lpc.ipynb\" target=\"_parent\"><img src=\"https://colab.research.google.com/assets/colab-badge.svg\" alt=\"Open In Colab\"/></a>"
      ]
    },
    {
      "cell_type": "code",
      "metadata": {
        "id": "_yWPd6nfR0CX",
        "colab_type": "code",
        "colab": {
          "base_uri": "https://localhost:8080/",
          "height": 476
        },
        "outputId": "322179c7-124b-43fb-f598-015d7aebc3da"
      },
      "source": [
        "#ETE PORTO DIGITAL\n",
        "#LPC - introdução a pynton\n",
        "#Prof. Cloves Rocha\n",
        "#Estudante: Karoline Fonseca\n",
        "\n",
        "A=\"olá mundo\"\n",
        "print(A)\n",
        "\n",
        "numero = int(input('Digite um número:'))\n",
        "print(f'O número informado foi {numero}.')\n",
        "print(type(numero))\n",
        "\n",
        "num1 = int(input('Digite um número:'))\n",
        "num2 = int(input('Digite outro número:'))\n",
        "X = num1+num2\n",
        "print(X)\n",
        "\n",
        "N1 =  float (input('Digite sua primeira nota:'))\n",
        "N2 =  float (input('Digite sua segunda nota'))\n",
        "N3 =  float (input('Digite sua terceira nota'))\n",
        "N4 =  float (input('Digite sua quarta nota'))\n",
        "X = N1+N2+N3+N4\n",
        "Media = X/4\n",
        "print(Media)\n",
        "\n",
        "Metros = float(input('Digite quantos metros:'))\n",
        "centrimetros = Metros*100 \n",
        "print(centrimetros)\n",
        "\n",
        "R = float(input('Digite o raio do círculo:'))\n",
        "pi = 3.14\n",
        "X = pi*R**2\n",
        "print(X)\n",
        "\n",
        "lado = float(input('Digite o lado do quadrado:'))\n",
        "A = lado**2\n",
        "X = 2*A\n",
        "print(X)\n",
        "\n",
        "g = float(input('Digite o quanto ganha por hora:'))\n",
        "h = int(input(\"Digite o número de horas que trabalha no mês\"))\n",
        "X = g*h\n",
        "print(X)\n",
        "\n",
        "num = int(input('Digite um número:'))\n",
        "if num>0:\n",
        "  print('Este número é positivo')\n",
        "else:\n",
        "  print('Este número é negativo')\n",
        "\n",
        "sexo = input('Digite uma letra (em maiúsculo):')\n",
        "if sexo == 'F':\n",
        "   print('sexo feminino')\n",
        "elif sexo == 'M':\n",
        "  print('sexo masculino')\n",
        "else:\n",
        "  print('sexo inválido')\n",
        "\n",
        "letra = input('Digite uma letra (em maiúsculo):')\n",
        "if letra == 'A' or letra == 'E' or letra == 'I' or letra == 'O' or letra == 'U':\n",
        "    print('Esta letra é uma vogal')\n",
        "else:\n",
        "    print('Esta letra é uma consoante')\n"
      ],
      "execution_count": null,
      "outputs": [
        {
          "output_type": "stream",
          "text": [
            "olá mundo\n",
            "Digite um número:5\n",
            "O número informado foi 5.\n",
            "<class 'int'>\n",
            "Digite um número:5\n",
            "Digite outro número:6\n",
            "11\n",
            "Digite sua primeira nota:5\n",
            "Digite sua segunda nota6\n",
            "Digite sua terceira nota7\n",
            "Digite sua quarta nota8\n",
            "6.5\n",
            "Digite quantos metros:6\n",
            "600.0\n",
            "Digite o raio do círculo:5\n",
            "78.5\n",
            "Digite o lado do quadrado:6\n",
            "72.0\n",
            "Digite o quanto ganha por hora:50\n",
            "Digite o número de horas que trabalha no mês240\n",
            "12000.0\n",
            "Digite um número:5\n",
            "Este número é positivo\n",
            "Digite uma letra (em maiúsculo):A\n",
            "sexo inválido\n",
            "Digite uma letra (em maiúsculo):E\n",
            "Esta letra é uma vogal\n"
          ],
          "name": "stdout"
        }
      ]
    }
  ]
}